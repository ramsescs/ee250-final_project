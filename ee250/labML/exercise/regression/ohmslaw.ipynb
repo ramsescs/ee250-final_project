{
 "cells": [
  {
   "cell_type": "code",
   "execution_count": 1,
   "id": "1f8d675c-ac01-4793-bba9-a505d90f4905",
   "metadata": {},
   "outputs": [],
   "source": [
    "# import all data libraries\n",
    "import pandas as pd\n",
    "import numpy as np\n",
    "\n",
    "# import all plotting libraries\n",
    "import matplotlib.pyplot as plt\n",
    "plt.rcParams[\"figure.figsize\"] = (10,7)\n",
    "import seaborn as sns\n",
    "\n",
    "# import all ML libraries\n",
    "from sklearn.linear_model import LinearRegression\n",
    "from sklearn.model_selection import train_test_split"
   ]
  },
  {
   "cell_type": "code",
   "execution_count": 2,
   "id": "586efaf8-c6ed-417e-b6de-42003f382e1b",
   "metadata": {},
   "outputs": [],
   "source": [
    "# load/read the csv file into a pandas DataFrame\n",
    "expDataframe = pd.read_csv(\"experiment.csv\")"
   ]
  },
  {
   "cell_type": "code",
   "execution_count": 3,
   "id": "48cde37d-7912-47df-9800-0018c9c5f8a8",
   "metadata": {},
   "outputs": [
    {
     "data": {
      "text/html": [
       "<div>\n",
       "<style scoped>\n",
       "    .dataframe tbody tr th:only-of-type {\n",
       "        vertical-align: middle;\n",
       "    }\n",
       "\n",
       "    .dataframe tbody tr th {\n",
       "        vertical-align: top;\n",
       "    }\n",
       "\n",
       "    .dataframe thead th {\n",
       "        text-align: right;\n",
       "    }\n",
       "</style>\n",
       "<table border=\"1\" class=\"dataframe\">\n",
       "  <thead>\n",
       "    <tr style=\"text-align: right;\">\n",
       "      <th></th>\n",
       "      <th>CURRENT</th>\n",
       "      <th>VOLTAGE</th>\n",
       "    </tr>\n",
       "  </thead>\n",
       "  <tbody>\n",
       "    <tr>\n",
       "      <th>0</th>\n",
       "      <td>-2.74</td>\n",
       "      <td>-10.0</td>\n",
       "    </tr>\n",
       "    <tr>\n",
       "      <th>1</th>\n",
       "      <td>-2.25</td>\n",
       "      <td>-9.0</td>\n",
       "    </tr>\n",
       "    <tr>\n",
       "      <th>2</th>\n",
       "      <td>-2.00</td>\n",
       "      <td>-8.0</td>\n",
       "    </tr>\n",
       "    <tr>\n",
       "      <th>3</th>\n",
       "      <td>-1.75</td>\n",
       "      <td>-7.0</td>\n",
       "    </tr>\n",
       "    <tr>\n",
       "      <th>4</th>\n",
       "      <td>-1.50</td>\n",
       "      <td>-6.0</td>\n",
       "    </tr>\n",
       "    <tr>\n",
       "      <th>5</th>\n",
       "      <td>-1.49</td>\n",
       "      <td>-5.0</td>\n",
       "    </tr>\n",
       "    <tr>\n",
       "      <th>6</th>\n",
       "      <td>-1.00</td>\n",
       "      <td>-4.0</td>\n",
       "    </tr>\n",
       "    <tr>\n",
       "      <th>7</th>\n",
       "      <td>-0.51</td>\n",
       "      <td>-3.0</td>\n",
       "    </tr>\n",
       "    <tr>\n",
       "      <th>8</th>\n",
       "      <td>-0.74</td>\n",
       "      <td>-2.0</td>\n",
       "    </tr>\n",
       "    <tr>\n",
       "      <th>9</th>\n",
       "      <td>-0.49</td>\n",
       "      <td>-1.0</td>\n",
       "    </tr>\n",
       "  </tbody>\n",
       "</table>\n",
       "</div>"
      ],
      "text/plain": [
       "   CURRENT  VOLTAGE\n",
       "0    -2.74    -10.0\n",
       "1    -2.25     -9.0\n",
       "2    -2.00     -8.0\n",
       "3    -1.75     -7.0\n",
       "4    -1.50     -6.0\n",
       "5    -1.49     -5.0\n",
       "6    -1.00     -4.0\n",
       "7    -0.51     -3.0\n",
       "8    -0.74     -2.0\n",
       "9    -0.49     -1.0"
      ]
     },
     "execution_count": 3,
     "metadata": {},
     "output_type": "execute_result"
    }
   ],
   "source": [
    "# explore the first 10 entries of the csv file\n",
    "expDataframe.head(10)"
   ]
  },
  {
   "cell_type": "code",
   "execution_count": 4,
   "id": "f4f7099d-8126-4c82-af5a-f061d69019db",
   "metadata": {},
   "outputs": [
    {
     "data": {
      "text/plain": [
       "0    -10.0\n",
       "1     -9.0\n",
       "2     -8.0\n",
       "3     -7.0\n",
       "4     -6.0\n",
       "5     -5.0\n",
       "6     -4.0\n",
       "7     -3.0\n",
       "8     -2.0\n",
       "9     -1.0\n",
       "10     0.0\n",
       "11     1.0\n",
       "12     2.0\n",
       "13     3.0\n",
       "14     4.0\n",
       "15     5.0\n",
       "16     6.0\n",
       "17     7.0\n",
       "18     8.0\n",
       "19     9.0\n",
       "20    10.0\n",
       "Name: VOLTAGE, dtype: float64"
      ]
     },
     "execution_count": 4,
     "metadata": {},
     "output_type": "execute_result"
    }
   ],
   "source": [
    "# Accessing the VOLTAGE as an array/series\n",
    "expDataframe.VOLTAGE"
   ]
  },
  {
   "cell_type": "code",
   "execution_count": 5,
   "id": "50977928-5503-436f-8052-bbc7395ea91b",
   "metadata": {},
   "outputs": [
    {
     "data": {
      "text/plain": [
       "0    -2.74\n",
       "1    -2.25\n",
       "2    -2.00\n",
       "3    -1.75\n",
       "4    -1.50\n",
       "5    -1.49\n",
       "6    -1.00\n",
       "7    -0.51\n",
       "8    -0.74\n",
       "9    -0.49\n",
       "10    0.00\n",
       "11    0.49\n",
       "12    0.50\n",
       "13    0.99\n",
       "14    0.76\n",
       "15    1.01\n",
       "16    1.74\n",
       "17    1.75\n",
       "18    2.00\n",
       "19    2.49\n",
       "20    2.50\n",
       "Name: CURRENT, dtype: float64"
      ]
     },
     "execution_count": 5,
     "metadata": {},
     "output_type": "execute_result"
    }
   ],
   "source": [
    "# Accessing the CURRENT as an array/series\n",
    "expDataframe.CURRENT"
   ]
  },
  {
   "cell_type": "code",
   "execution_count": 6,
   "id": "10cf7e87-4631-44ac-854d-6f1b3c8860a1",
   "metadata": {},
   "outputs": [
    {
     "data": {
      "text/plain": [
       "Text(0, 0.5, 'CURRENT')"
      ]
     },
     "execution_count": 6,
     "metadata": {},
     "output_type": "execute_result"
    },
    {
     "data": {
      "image/png": "[encoded data removed]",
      "text/plain": [
       "<Figure size 720x504 with 1 Axes>"
      ]
     },
     "metadata": {
      "needs_background": "light"
     },
     "output_type": "display_data"
    }
   ],
   "source": [
    "# line plot the VOLTAGE and CURRENT using matplot lib\n",
    "plt.plot(expDataframe.VOLTAGE,expDataframe.CURRENT)\n",
    "plt.title(\"VOLTAGE vs CURRENT\")\n",
    "plt.xlabel(\"VOLTAGE\")\n",
    "plt.ylabel(\"CURRENT\")"
   ]
  },
  {
   "cell_type": "code",
   "execution_count": 7,
   "id": "15c2b9e0-8669-494b-8e2e-6c99283de88c",
   "metadata": {},
   "outputs": [
    {
     "data": {
      "text/plain": [
       "Text(0, 0.5, 'CURRENT')"
      ]
     },
     "execution_count": 7,
     "metadata": {},
     "output_type": "execute_result"
    },
    {
     "data": {
      "image/png": "[encoded data removed]",
      "text/plain": [
       "<Figure size 720x504 with 1 Axes>"
      ]
     },
     "metadata": {
      "needs_background": "light"
     },
     "output_type": "display_data"
    }
   ],
   "source": [
    "# scatterplot using matplotlib\n",
    "plt.scatter(expDataframe.VOLTAGE,expDataframe.CURRENT)\n",
    "plt.title(\"VOLTAGE vs CURRENT\")\n",
    "plt.xlabel(\"VOLTAGE\")\n",
    "plt.ylabel(\"CURRENT\")"
   ]
  },
  {
   "cell_type": "code",
   "execution_count": 8,
   "id": "dae53915-ffcb-42a9-991e-ac95b74fdc70",
   "metadata": {},
   "outputs": [
    {
     "data": {
      "text/plain": [
       "<AxesSubplot:xlabel='VOLTAGE', ylabel='CURRENT'>"
      ]
     },
     "execution_count": 8,
     "metadata": {},
     "output_type": "execute_result"
    },
    {
     "data": {
      "image/png": "[encoded data removed]",
      "text/plain": [
       "<Figure size 720x504 with 1 Axes>"
      ]
     },
     "metadata": {
      "needs_background": "light"
     },
     "output_type": "display_data"
    }
   ],
   "source": [
    "# scatterplot using seaborn\n",
    "sns.scatterplot(x=\"VOLTAGE\",y=\"CURRENT\",data=expDataframe)"
   ]
  },
  {
   "cell_type": "code",
   "execution_count": 9,
   "id": "93cade26-f626-4b68-9f74-f3f9b70e7638",
   "metadata": {},
   "outputs": [
    {
     "name": "stdout",
     "output_type": "stream",
     "text": [
      "[[-10.]\n",
      " [ -9.]\n",
      " [ -8.]\n",
      " [ -7.]\n",
      " [ -6.]\n",
      " [ -5.]\n",
      " [ -4.]\n",
      " [ -3.]\n",
      " [ -2.]\n",
      " [ -1.]\n",
      " [  0.]\n",
      " [  1.]\n",
      " [  2.]\n",
      " [  3.]\n",
      " [  4.]\n",
      " [  5.]\n",
      " [  6.]\n",
      " [  7.]\n",
      " [  8.]\n",
      " [  9.]\n",
      " [ 10.]]\n"
     ]
    }
   ],
   "source": [
    "# Create X\n",
    "X = expDataframe.VOLTAGE.to_numpy().reshape(-1,1)\n",
    "print(X)"
   ]
  },
  {
   "cell_type": "code",
   "execution_count": 10,
   "id": "693a1df2-25f6-4228-9eb1-0c630e3c15e0",
   "metadata": {},
   "outputs": [
    {
     "name": "stdout",
     "output_type": "stream",
     "text": [
      "[-2.74 -2.25 -2.   -1.75 -1.5  -1.49 -1.   -0.51 -0.74 -0.49  0.    0.49\n",
      "  0.5   0.99  0.76  1.01  1.74  1.75  2.    2.49  2.5 ]\n"
     ]
    }
   ],
   "source": [
    "# create y\n",
    "y = expDataframe.CURRENT.to_numpy()\n",
    "print(y)"
   ]
  },
  {
   "cell_type": "code",
   "execution_count": 11,
   "id": "7d29e39b-03d0-4f08-800e-ba78b4622b21",
   "metadata": {},
   "outputs": [],
   "source": [
    "# Test Train Split\n",
    "Xtrain,Xtest,Ytrain,Ytest = train_test_split(X,y, test_size=0.2,random_state=10)"
   ]
  },
  {
   "cell_type": "code",
   "execution_count": 12,
   "id": "3f473ab5-2c9a-4ec1-bb8b-89b33a60cf45",
   "metadata": {},
   "outputs": [
    {
     "name": "stdout",
     "output_type": "stream",
     "text": [
      "Parameters after learning from training data\n",
      "  m = 0.2577922077922077\n",
      "  c = -0.011428571428571439\n"
     ]
    }
   ],
   "source": [
    "# use sklearn's linear regression to learn from the data\n",
    "lr = LinearRegression()\n",
    "lr.fit(X,y)\n",
    "print(\"Parameters after learning from training data\")\n",
    "print(\"  m =\",lr.coef_[0])\n",
    "print(\"  c =\",lr.intercept_)"
   ]
  },
  {
   "cell_type": "code",
   "execution_count": 13,
   "id": "a88bf59d-02ea-4220-bb51-a84413516a91",
   "metadata": {},
   "outputs": [
    {
     "data": {
      "text/plain": [
       "[<matplotlib.lines.Line2D at 0x7f5dbb2cb2e0>]"
      ]
     },
     "execution_count": 13,
     "metadata": {},
     "output_type": "execute_result"
    },
    {
     "data": {
      "image/png": "[encoded data removed]",
      "text/plain": [
       "<Figure size 720x504 with 1 Axes>"
      ]
     },
     "metadata": {
      "needs_background": "light"
     },
     "output_type": "display_data"
    }
   ],
   "source": [
    "sns.scatterplot(x=\"VOLTAGE\", y=\"CURRENT\",data=expDataframe, color=\"orange\")\n",
    "plt.plot([2,90], np.array([[1 ,2],[1,90]]) @ [lr.intercept_, lr.coef_[0]], color=\"blue\")"
   ]
  },
  {
   "cell_type": "code",
   "execution_count": 14,
   "id": "9d89d278-865b-45cd-94d9-9b24bd63e9c5",
   "metadata": {},
   "outputs": [
    {
     "name": "stdout",
     "output_type": "stream",
     "text": [
      "Parameters after learning from training data\n",
      "  m = 0.25779220779220774\n",
      "  c = 0.0\n"
     ]
    }
   ],
   "source": [
    "# use sklearn's linear regression to learn from the data\n",
    "lr2 = LinearRegression(fit_intercept=False)\n",
    "lr2.fit(X,y)\n",
    "print(\"Parameters after learning from training data\")\n",
    "print(\"  m =\",lr2.coef_[0])\n",
    "print(\"  c =\",lr2.intercept_)"
   ]
  },
  {
   "cell_type": "code",
   "execution_count": 15,
   "id": "d25ad13a-112f-49fa-bc16-3ed44f350c02",
   "metadata": {},
   "outputs": [
    {
     "data": {
      "text/plain": [
       "[<matplotlib.lines.Line2D at 0x7f5dbb1767c0>]"
      ]
     },
     "execution_count": 15,
     "metadata": {},
     "output_type": "execute_result"
    },
    {
     "data": {
      "image/png": "[encoded data removed]",
      "text/plain": [
       "<Figure size 720x504 with 1 Axes>"
      ]
     },
     "metadata": {
      "needs_background": "light"
     },
     "output_type": "display_data"
    }
   ],
   "source": [
    "sns.scatterplot(x=\"VOLTAGE\", y=\"CURRENT\",data=expDataframe, color=\"orange\")\n",
    "plt.plot([2,90], np.array([[1 ,2],[1,90]]) @ [lr2.intercept_, lr2.coef_[0]], color=\"red\")"
   ]
  },
  {
   "cell_type": "code",
   "execution_count": 16,
   "id": "780db2a6-fcc0-44f7-8f68-4ccaac6bc2f4",
   "metadata": {},
   "outputs": [
    {
     "data": {
      "text/plain": [
       "[<matplotlib.lines.Line2D at 0x7f5dbb14dd60>]"
      ]
     },
     "execution_count": 16,
     "metadata": {},
     "output_type": "execute_result"
    },
    {
     "data": {
      "image/png": "[encoded data removed]",
      "text/plain": [
       "<Figure size 720x504 with 1 Axes>"
      ]
     },
     "metadata": {
      "needs_background": "light"
     },
     "output_type": "display_data"
    }
   ],
   "source": [
    "# Compare lr and lr2\n",
    "sns.scatterplot(x=\"VOLTAGE\", y=\"CURRENT\",data=expDataframe, color=\"orange\")\n",
    "plt.plot([2,90], np.array([[1 ,2],[1,90]]) @ [lr.intercept_, lr.coef_[0]], color=\"blue\", alpha=0.25)\n",
    "plt.plot([2,90], np.array([[1 ,2],[1,90]]) @ [lr2.intercept_, lr2.coef_[0]], color=\"red\",alpha=0.25)\n"
   ]
  },
  {
   "cell_type": "code",
   "execution_count": 21,
   "id": "14713a62-85f8-40c3-ac73-1d9bf4b73b93",
   "metadata": {},
   "outputs": [
    {
     "data": {
      "text/plain": [
       "array([ 3.86688312,  5.15584416,  6.44480519, 12.88961039])"
      ]
     },
     "execution_count": 21,
     "metadata": {},
     "output_type": "execute_result"
    }
   ],
   "source": [
    "lr2.predict(np.array([15, 20, 25, 50]).reshape(-1, 1))"
   ]
  }
 ],
 "metadata": {
  "kernelspec": {
   "display_name": "Python 3 (ipykernel)",
   "language": "python",
   "name": "python3"
  },
  "language_info": {
   "codemirror_mode": {
    "name": "ipython",
    "version": 3
   },
   "file_extension": ".py",
   "mimetype": "text/x-python",
   "name": "python",
   "nbconvert_exporter": "python",
   "pygments_lexer": "ipython3",
   "version": "3.8.10"
  }
 },
 "nbformat": 4,
 "nbformat_minor": 5
}
